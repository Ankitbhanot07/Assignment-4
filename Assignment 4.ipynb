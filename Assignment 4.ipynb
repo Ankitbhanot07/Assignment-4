{
 "cells": [
  {
   "cell_type": "markdown",
   "id": "889a2589",
   "metadata": {},
   "source": [
    "Q1 :    What exactly is []?"
   ]
  },
  {
   "cell_type": "markdown",
   "id": "4054eb46",
   "metadata": {},
   "source": [
    "Ans1 :  Empty list[] with no items in it."
   ]
  },
  {
   "cell_type": "markdown",
   "id": "6d587a6f",
   "metadata": {},
   "source": [
    "Q2 :   In a list of values stored in a variable called spam, how would you assign the value 'hello' \n",
    "       as the third value? (Assume [2, 4, 6, 8, 10] are in spam.)"
   ]
  },
  {
   "cell_type": "markdown",
   "id": "1243234a",
   "metadata": {},
   "source": [
    "Ans2 : spam[2]='hello'"
   ]
  },
  {
   "cell_type": "markdown",
   "id": "9a63b20c",
   "metadata": {},
   "source": [
    "Let's pretend the spam includes the list ['a', 'b', 'c', 'd'] for the next three queries."
   ]
  },
  {
   "cell_type": "markdown",
   "id": "ea152e2d",
   "metadata": {},
   "source": [
    "Q3 :   What is the value of spam[int(int('3'* 2) / 11)]?"
   ]
  },
  {
   "cell_type": "markdown",
   "id": "2ea16198",
   "metadata": {},
   "source": [
    "Ans3 : [3]"
   ]
  },
  {
   "cell_type": "markdown",
   "id": "f1d6b92c",
   "metadata": {},
   "source": [
    "Q4 :   What is the value of spam[-1]?"
   ]
  },
  {
   "cell_type": "markdown",
   "id": "3382b139",
   "metadata": {},
   "source": [
    "Ans4 : 'd' because negative indexing count from end"
   ]
  },
  {
   "cell_type": "markdown",
   "id": "b48f42f4",
   "metadata": {},
   "source": [
    "Q5 :   What is the value of spam[:2]?"
   ]
  },
  {
   "cell_type": "markdown",
   "id": "9bab36f1",
   "metadata": {},
   "source": [
    "Ans5 : ['a','b']"
   ]
  },
  {
   "cell_type": "markdown",
   "id": "c6450d19",
   "metadata": {},
   "source": [
    "Lets pretend bacon has the list [3.14,'cat', 11,'cat', True] for the next three questions."
   ]
  },
  {
   "cell_type": "markdown",
   "id": "658ed7bc",
   "metadata": {},
   "source": [
    "Q6 :   What is the value of bacon.index('cat')?"
   ]
  },
  {
   "cell_type": "markdown",
   "id": "1945fc6e",
   "metadata": {},
   "source": [
    "Ans6 : 1"
   ]
  },
  {
   "cell_type": "markdown",
   "id": "11b1e3b6",
   "metadata": {},
   "source": [
    "Q7 :   How does bacon.append(99) change the look of the list value in bacon?"
   ]
  },
  {
   "cell_type": "markdown",
   "id": "a9096e1a",
   "metadata": {},
   "source": [
    "Ans7 : [3.14,'cat',11,'cat',True,99]"
   ]
  },
  {
   "cell_type": "markdown",
   "id": "22805339",
   "metadata": {},
   "source": [
    "Q8 :   How does bacon.remove('cat') change the look of the list in bacon?"
   ]
  },
  {
   "cell_type": "markdown",
   "id": "a4efabd0",
   "metadata": {},
   "source": [
    "Ans8 : [3.14,11,'cat',True]"
   ]
  },
  {
   "cell_type": "markdown",
   "id": "52e7fba4",
   "metadata": {},
   "source": [
    "Q9 :   What are the list concatenation and list replication operators?"
   ]
  },
  {
   "cell_type": "markdown",
   "id": "886d71f7",
   "metadata": {},
   "source": [
    "Ans9 : The list concatenation operation is +.\n",
    "       The list replication operation is *"
   ]
  },
  {
   "cell_type": "markdown",
   "id": "bc270351",
   "metadata": {},
   "source": [
    "Q10 :    What is difference between the list methods append() and insert()?"
   ]
  },
  {
   "cell_type": "markdown",
   "id": "68a78d1a",
   "metadata": {},
   "source": [
    "Ans10 : The append() mthod in list add value only in last of the list,whereas insert() method\n",
    "         can add anywhere in the list."
   ]
  },
  {
   "cell_type": "markdown",
   "id": "81b24687",
   "metadata": {},
   "source": [
    "Q11 :   What are the two methods for removing items from a list?"
   ]
  },
  {
   "cell_type": "markdown",
   "id": "f1f3620d",
   "metadata": {},
   "source": [
    "Ans11 : remove() and pop()."
   ]
  },
  {
   "cell_type": "markdown",
   "id": "b053bbf0",
   "metadata": {},
   "source": [
    "Q12 :   Describe how list values and string values are identical."
   ]
  },
  {
   "cell_type": "markdown",
   "id": "f41a5195",
   "metadata": {},
   "source": [
    "Ans12 : The similarity between Lists and Strings in Python is that both are sequences.\n",
    "        The differences between them are that firstly, Lists are mutable but Strings are immutable. \n",
    "        Secondly, elements of a list can be of different types whereas a String only contains        \n",
    "        characters that are all of String type."
   ]
  },
  {
   "cell_type": "markdown",
   "id": "b427b41f",
   "metadata": {},
   "source": [
    "Q13 :   What is the difference between tuples and lists?"
   ]
  },
  {
   "cell_type": "markdown",
   "id": "cb28702b",
   "metadata": {},
   "source": [
    "Ans13 : Lists are mutable; they can have values added, removed, or changed. \n",
    "        List use the square brackets [] , \n",
    "        Tuples are immutable; they cannot be changed at all, \n",
    "        Tuples are written using parenthesis () . "
   ]
  },
  {
   "cell_type": "markdown",
   "id": "01360699",
   "metadata": {},
   "source": [
    "Q14 :   How do you type a tuple value that only contains the integer 42?"
   ]
  },
  {
   "cell_type": "markdown",
   "id": "4809928d",
   "metadata": {},
   "source": [
    "Ans14 : (42,)"
   ]
  },
  {
   "cell_type": "markdown",
   "id": "38e2bc48",
   "metadata": {},
   "source": [
    "Q15 :   How do you get a list value's tuple form? How do you get a tuple value's list form?"
   ]
  },
  {
   "cell_type": "markdown",
   "id": "9345eb84",
   "metadata": {},
   "source": [
    "Ans15 : tuple() and list[] functions respectively . "
   ]
  },
  {
   "cell_type": "markdown",
   "id": "f0f712d5",
   "metadata": {},
   "source": [
    "Q16 :   Variables that \"contain\" list values are not necessarily lists themselves. Instead, \n",
    "        what do they contain?"
   ]
  },
  {
   "cell_type": "markdown",
   "id": "540cba6a",
   "metadata": {},
   "source": [
    "Ans16 : contains refences to the list values."
   ]
  },
  {
   "cell_type": "markdown",
   "id": "d003f781",
   "metadata": {},
   "source": [
    "Q17 :   How do you distinguish between copy.copy() and copy.deepcopy()?"
   ]
  },
  {
   "cell_type": "markdown",
   "id": "90d0e216",
   "metadata": {},
   "source": [
    "Ans17 : copy.copy() function do shallow copy of a list while copy.deepcopy() function do deep copy\n",
    "        of list or dulpicate any list inside the list."
   ]
  }
 ],
 "metadata": {
  "kernelspec": {
   "display_name": "Python 3 (ipykernel)",
   "language": "python",
   "name": "python3"
  },
  "language_info": {
   "codemirror_mode": {
    "name": "ipython",
    "version": 3
   },
   "file_extension": ".py",
   "mimetype": "text/x-python",
   "name": "python",
   "nbconvert_exporter": "python",
   "pygments_lexer": "ipython3",
   "version": "3.9.12"
  }
 },
 "nbformat": 4,
 "nbformat_minor": 5
}
